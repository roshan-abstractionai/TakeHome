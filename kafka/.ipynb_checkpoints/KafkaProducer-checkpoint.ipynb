{
 "cells": [
  {
   "cell_type": "code",
   "execution_count": 13,
   "id": "6fcc8547",
   "metadata": {},
   "outputs": [],
   "source": [
    "# import sys\n",
    "# !{sys.executable} -m pip install kafka-python"
   ]
  },
  {
   "cell_type": "code",
   "execution_count": 1,
   "id": "0e49b04e",
   "metadata": {},
   "outputs": [],
   "source": [
    "import json\n",
    "from json import dumps\n",
    "from kafka import KafkaProducer"
   ]
  },
  {
   "cell_type": "code",
   "execution_count": 2,
   "id": "e76b39eb",
   "metadata": {},
   "outputs": [],
   "source": [
    "brokers='localhost:9092'"
   ]
  },
  {
   "cell_type": "code",
   "execution_count": 3,
   "id": "fda56822",
   "metadata": {},
   "outputs": [],
   "source": [
    "producer = KafkaProducer(bootstrap_servers=[brokers],value_serializer=lambda x: dumps(x).encode('utf-8'))"
   ]
  },
  {
   "cell_type": "markdown",
   "id": "7d7973f3",
   "metadata": {},
   "source": [
    "Start the events producer. This has to run only once."
   ]
  },
  {
   "cell_type": "code",
   "execution_count": 4,
   "id": "d85f695b",
   "metadata": {},
   "outputs": [
    {
     "name": "stdout",
     "output_type": "stream",
     "text": [
      "page_view {'event_id': 'e1001', 'event_type': 'page_view', 'user_id': 'u5678', 'timestamp': '2024-09-03T10:15:30Z', 'data': {'page_url': '/products/electronics/smartphones', 'device': 'mobile', 'browser': 'chrome'}}\n",
      "product_view {'event_id': 'e1002', 'event_type': 'product_view', 'user_id': 'u5678', 'timestamp': '2024-09-03T10:16:45Z', 'data': {'product_id': 'p1234', 'product_name': 'Smartphone X', 'category': 'electronics', 'price': 599.99}}\n",
      "add_to_cart {'event_id': 'e1003', 'event_type': 'add_to_cart', 'user_id': 'u5678', 'timestamp': '2024-09-03T10:18:20Z', 'data': {'product_id': 'p1234', 'quantity': 1}}\n",
      "purchase {'event_id': 'e1004', 'event_type': 'purchase', 'user_id': 'u5678', 'timestamp': '2024-09-03T10:25:15Z', 'data': {'order_id': 'o7890', 'total_amount': 599.99, 'payment_method': 'credit_card', 'products': [{'product_id': 'p1234', 'quantity': 1, 'price': 599.99}]}}\n",
      "search {'event_id': 'e1005', 'event_type': 'search', 'user_id': 'u9012', 'timestamp': '2024-09-03T11:05:00Z', 'data': {'query': 'wireless headphones', 'results_count': 15}}\n",
      "page_view {'event_id': 'e1006', 'event_type': 'page_view', 'user_id': 'u9012', 'timestamp': '2024-09-03T11:07:30Z', 'data': {'page_url': '/products/electronics/audio/wireless-headphones', 'device': 'desktop', 'browser': 'firefox'}}\n",
      "product_view {'event_id': 'e1007', 'event_type': 'product_view', 'user_id': 'u9012', 'timestamp': '2024-09-03T11:09:45Z', 'data': {'product_id': 'p5678', 'product_name': 'Wireless Headphones Y', 'category': 'electronics', 'price': 199.99}}\n",
      "add_to_wishlist {'event_id': 'e1008', 'event_type': 'add_to_wishlist', 'user_id': 'u9012', 'timestamp': '2024-09-03T11:11:00Z', 'data': {'product_id': 'p5678'}}\n",
      "page_view {'event_id': 'e1009', 'event_type': 'page_view', 'user_id': 'u3456', 'timestamp': '2024-09-03T12:30:00Z', 'data': {'page_url': '/products/home-and-garden/furniture', 'device': 'tablet', 'browser': 'safari'}}\n",
      "product_view {'event_id': 'e1010', 'event_type': 'product_view', 'user_id': 'u3456', 'timestamp': '2024-09-03T12:32:15Z', 'data': {'product_id': 'p9012', 'product_name': 'Ergonomic Office Chair', 'category': 'furniture', 'price': 299.99}}\n",
      "add_to_cart {'event_id': 'e1011', 'event_type': 'add_to_cart', 'user_id': 'u3456', 'timestamp': '2024-09-03T12:35:00Z', 'data': {'product_id': 'p9012', 'quantity': 1}}\n",
      "purchase {'event_id': 'e1012', 'event_type': 'purchase', 'user_id': 'u3456', 'timestamp': '2024-09-03T12:40:30Z', 'data': {'order_id': 'o7891', 'total_amount': 299.99, 'payment_method': 'paypal', 'products': [{'product_id': 'p9012', 'quantity': 1, 'price': 299.99}]}}\n",
      "search {'event_id': 'e1013', 'event_type': 'search', 'user_id': 'u7890', 'timestamp': '2024-09-03T13:15:00Z', 'data': {'query': 'running shoes', 'results_count': 30}}\n",
      "page_view {'event_id': 'e1014', 'event_type': 'page_view', 'user_id': 'u7890', 'timestamp': '2024-09-03T13:17:45Z', 'data': {'page_url': '/products/sports/footwear/running-shoes', 'device': 'mobile', 'browser': 'chrome'}}\n",
      "product_view {'event_id': 'e1015', 'event_type': 'product_view', 'user_id': 'u7890', 'timestamp': '2024-09-03T13:20:00Z', 'data': {'product_id': 'p3456', 'product_name': 'Ultra Boost Running Shoes', 'category': 'sports', 'price': 159.99}}\n"
     ]
    }
   ],
   "source": [
    "import json\n",
    "    \n",
    "with open('/Users/ashwin-1994/RTDR/data/ecommerce-sample-data.json', 'r') as file:\n",
    "    data = json.load(file)\n",
    "    for item in data[\"events\"]:\n",
    "        print(item[\"event_type\"], item)\n",
    "        producer.send(item[\"event_type\"], item)\n",
    "        producer.flush()"
   ]
  }
 ],
 "metadata": {
  "kernelspec": {
   "display_name": "Python 3 (ipykernel)",
   "language": "python",
   "name": "python3"
  },
  "language_info": {
   "codemirror_mode": {
    "name": "ipython",
    "version": 3
   },
   "file_extension": ".py",
   "mimetype": "text/x-python",
   "name": "python",
   "nbconvert_exporter": "python",
   "pygments_lexer": "ipython3",
   "version": "3.9.7"
  }
 },
 "nbformat": 4,
 "nbformat_minor": 5
}
