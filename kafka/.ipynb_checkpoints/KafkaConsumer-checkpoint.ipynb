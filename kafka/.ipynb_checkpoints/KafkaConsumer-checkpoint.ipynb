{
 "cells": [
  {
   "cell_type": "code",
   "execution_count": 1,
   "id": "c12cde74",
   "metadata": {},
   "outputs": [],
   "source": [
    "import time\n",
    "import json\n",
    "from kafka import KafkaConsumer\n",
    "from datetime import datetime\n",
    "import threading\n",
    "\n",
    "import pandas as pd"
   ]
  },
  {
   "cell_type": "code",
   "execution_count": 2,
   "id": "16fd8b1b",
   "metadata": {},
   "outputs": [],
   "source": [
    "brokers='localhost:9092'\n",
    "topics=['page_view', 'product_view', 'add_to_cart', 'purchase', 'search', 'add_to_wishlist']\n",
    "offset='earliest'"
   ]
  },
  {
   "cell_type": "code",
   "execution_count": 3,
   "id": "bb50e386",
   "metadata": {},
   "outputs": [],
   "source": [
    "consumer = KafkaConsumer(bootstrap_servers=brokers, auto_offset_reset=offset,consumer_timeout_ms=1000)\n",
    "consumer.subscribe(topics)"
   ]
  },
  {
   "cell_type": "code",
   "execution_count": 4,
   "id": "a07b204e",
   "metadata": {},
   "outputs": [],
   "source": [
    "msg_array = []\n",
    "# Create an empty RDD\n",
    "columns = []\n",
    "iteration = 0\n",
    "first_update = True\n",
    "# Create empty schema"
   ]
  },
  {
   "cell_type": "markdown",
   "id": "f623cf56",
   "metadata": {},
   "source": [
    "Start consuming in a parallel thread"
   ]
  },
  {
   "cell_type": "code",
   "execution_count": null,
   "id": "00d0191c",
   "metadata": {},
   "outputs": [],
   "source": [
    "def parallel_fetch(): \n",
    "    while(True): # to keep listening to producers! \n",
    "        for message in consumer:\n",
    "            global columns, msg_array\n",
    "            \n",
    "            print(message)\n",
    "            attribute_list = []\n",
    "            value_list = []\n",
    "            for attribute, value in json.loads(message.value.decode('UTF-8')).items():\n",
    "                attribute_list.append(attribute)\n",
    "                value_list.append(value)   \n",
    "                \n",
    "            print(value_list)\n",
    "                \n",
    "            if len(columns) == 0:\n",
    "                columns = attribute_list\n",
    "\n",
    "            msg_array.append(value_list)                   \n",
    "            \n",
    "t1 = threading.Thread(target=parallel_fetch)\n",
    "t1.start()\n",
    "    "
   ]
  },
  {
   "cell_type": "code",
   "execution_count": 6,
   "id": "3086ca6a",
   "metadata": {},
   "outputs": [
    {
     "name": "stdout",
     "output_type": "stream",
     "text": [
      "[['e1008', 'add_to_wishlist', 'u9012', '2024-09-03T11:11:00Z', {'product_id': 'p5678'}], ['e1008', 'add_to_wishlist', 'u9012', '2024-09-03T11:11:00Z', {'product_id': 'p5678'}], ['e1008', 'add_to_wishlist', 'u9012', '2024-09-03T11:11:00Z', {'product_id': 'p5678'}], ['e1008', 'add_to_wishlist', 'u9012', '2024-09-03T11:11:00Z', {'product_id': 'p5678'}], ['e1008', 'add_to_wishlist', 'u9012', '2024-09-03T11:11:00Z', {'product_id': 'p5678'}], ['e1008', 'add_to_wishlist', 'u9012', '2024-09-03T11:11:00Z', {'product_id': 'p5678'}], ['e1008', 'add_to_wishlist', 'u9012', '2024-09-03T11:11:00Z', {'product_id': 'p5678'}], ['e1001', 'page_view', 'u5678', '2024-09-03T10:15:30Z', {'page_url': '/products/electronics/smartphones', 'device': 'mobile', 'browser': 'chrome'}], ['e1006', 'page_view', 'u9012', '2024-09-03T11:07:30Z', {'page_url': '/products/electronics/audio/wireless-headphones', 'device': 'desktop', 'browser': 'firefox'}], ['e1009', 'page_view', 'u3456', '2024-09-03T12:30:00Z', {'page_url': '/products/home-and-garden/furniture', 'device': 'tablet', 'browser': 'safari'}], ['e1014', 'page_view', 'u7890', '2024-09-03T13:17:45Z', {'page_url': '/products/sports/footwear/running-shoes', 'device': 'mobile', 'browser': 'chrome'}], ['e1001', 'page_view', 'u5678', '2024-09-03T10:15:30Z', {'page_url': '/products/electronics/smartphones', 'device': 'mobile', 'browser': 'chrome'}], ['e1006', 'page_view', 'u9012', '2024-09-03T11:07:30Z', {'page_url': '/products/electronics/audio/wireless-headphones', 'device': 'desktop', 'browser': 'firefox'}], ['e1009', 'page_view', 'u3456', '2024-09-03T12:30:00Z', {'page_url': '/products/home-and-garden/furniture', 'device': 'tablet', 'browser': 'safari'}], ['e1014', 'page_view', 'u7890', '2024-09-03T13:17:45Z', {'page_url': '/products/sports/footwear/running-shoes', 'device': 'mobile', 'browser': 'chrome'}], ['e1001', 'page_view', 'u5678', '2024-09-03T10:15:30Z', {'page_url': '/products/electronics/smartphones', 'device': 'mobile', 'browser': 'chrome'}], ['e1006', 'page_view', 'u9012', '2024-09-03T11:07:30Z', {'page_url': '/products/electronics/audio/wireless-headphones', 'device': 'desktop', 'browser': 'firefox'}], ['e1009', 'page_view', 'u3456', '2024-09-03T12:30:00Z', {'page_url': '/products/home-and-garden/furniture', 'device': 'tablet', 'browser': 'safari'}], ['e1014', 'page_view', 'u7890', '2024-09-03T13:17:45Z', {'page_url': '/products/sports/footwear/running-shoes', 'device': 'mobile', 'browser': 'chrome'}], ['e1001', 'page_view', 'u5678', '2024-09-03T10:15:30Z', {'page_url': '/products/electronics/smartphones', 'device': 'mobile', 'browser': 'chrome'}], ['e1006', 'page_view', 'u9012', '2024-09-03T11:07:30Z', {'page_url': '/products/electronics/audio/wireless-headphones', 'device': 'desktop', 'browser': 'firefox'}], ['e1009', 'page_view', 'u3456', '2024-09-03T12:30:00Z', {'page_url': '/products/home-and-garden/furniture', 'device': 'tablet', 'browser': 'safari'}], ['e1014', 'page_view', 'u7890', '2024-09-03T13:17:45Z', {'page_url': '/products/sports/footwear/running-shoes', 'device': 'mobile', 'browser': 'chrome'}], ['e1001', 'page_view', 'u5678', '2024-09-03T10:15:30Z', {'page_url': '/products/electronics/smartphones', 'device': 'mobile', 'browser': 'chrome'}], ['e1006', 'page_view', 'u9012', '2024-09-03T11:07:30Z', {'page_url': '/products/electronics/audio/wireless-headphones', 'device': 'desktop', 'browser': 'firefox'}], ['e1009', 'page_view', 'u3456', '2024-09-03T12:30:00Z', {'page_url': '/products/home-and-garden/furniture', 'device': 'tablet', 'browser': 'safari'}], ['e1014', 'page_view', 'u7890', '2024-09-03T13:17:45Z', {'page_url': '/products/sports/footwear/running-shoes', 'device': 'mobile', 'browser': 'chrome'}], ['e1001', 'page_view', 'u5678', '2024-09-03T10:15:30Z', {'page_url': '/products/electronics/smartphones', 'device': 'mobile', 'browser': 'chrome'}], ['e1006', 'page_view', 'u9012', '2024-09-03T11:07:30Z', {'page_url': '/products/electronics/audio/wireless-headphones', 'device': 'desktop', 'browser': 'firefox'}], ['e1009', 'page_view', 'u3456', '2024-09-03T12:30:00Z', {'page_url': '/products/home-and-garden/furniture', 'device': 'tablet', 'browser': 'safari'}], ['e1014', 'page_view', 'u7890', '2024-09-03T13:17:45Z', {'page_url': '/products/sports/footwear/running-shoes', 'device': 'mobile', 'browser': 'chrome'}], ['e1001', 'page_view', 'u5678', '2024-09-03T10:15:30Z', {'page_url': '/products/electronics/smartphones', 'device': 'mobile', 'browser': 'chrome'}], ['e1006', 'page_view', 'u9012', '2024-09-03T11:07:30Z', {'page_url': '/products/electronics/audio/wireless-headphones', 'device': 'desktop', 'browser': 'firefox'}], ['e1009', 'page_view', 'u3456', '2024-09-03T12:30:00Z', {'page_url': '/products/home-and-garden/furniture', 'device': 'tablet', 'browser': 'safari'}], ['e1014', 'page_view', 'u7890', '2024-09-03T13:17:45Z', {'page_url': '/products/sports/footwear/running-shoes', 'device': 'mobile', 'browser': 'chrome'}], ['e1004', 'purchase', 'u5678', '2024-09-03T10:25:15Z', {'order_id': 'o7890', 'total_amount': 599.99, 'payment_method': 'credit_card', 'products': [{'product_id': 'p1234', 'quantity': 1, 'price': 599.99}]}], ['e1012', 'purchase', 'u3456', '2024-09-03T12:40:30Z', {'order_id': 'o7891', 'total_amount': 299.99, 'payment_method': 'paypal', 'products': [{'product_id': 'p9012', 'quantity': 1, 'price': 299.99}]}], ['e1004', 'purchase', 'u5678', '2024-09-03T10:25:15Z', {'order_id': 'o7890', 'total_amount': 599.99, 'payment_method': 'credit_card', 'products': [{'product_id': 'p1234', 'quantity': 1, 'price': 599.99}]}], ['e1012', 'purchase', 'u3456', '2024-09-03T12:40:30Z', {'order_id': 'o7891', 'total_amount': 299.99, 'payment_method': 'paypal', 'products': [{'product_id': 'p9012', 'quantity': 1, 'price': 299.99}]}], ['e1004', 'purchase', 'u5678', '2024-09-03T10:25:15Z', {'order_id': 'o7890', 'total_amount': 599.99, 'payment_method': 'credit_card', 'products': [{'product_id': 'p1234', 'quantity': 1, 'price': 599.99}]}], ['e1012', 'purchase', 'u3456', '2024-09-03T12:40:30Z', {'order_id': 'o7891', 'total_amount': 299.99, 'payment_method': 'paypal', 'products': [{'product_id': 'p9012', 'quantity': 1, 'price': 299.99}]}], ['e1004', 'purchase', 'u5678', '2024-09-03T10:25:15Z', {'order_id': 'o7890', 'total_amount': 599.99, 'payment_method': 'credit_card', 'products': [{'product_id': 'p1234', 'quantity': 1, 'price': 599.99}]}], ['e1012', 'purchase', 'u3456', '2024-09-03T12:40:30Z', {'order_id': 'o7891', 'total_amount': 299.99, 'payment_method': 'paypal', 'products': [{'product_id': 'p9012', 'quantity': 1, 'price': 299.99}]}], ['e1004', 'purchase', 'u5678', '2024-09-03T10:25:15Z', {'order_id': 'o7890', 'total_amount': 599.99, 'payment_method': 'credit_card', 'products': [{'product_id': 'p1234', 'quantity': 1, 'price': 599.99}]}], ['e1012', 'purchase', 'u3456', '2024-09-03T12:40:30Z', {'order_id': 'o7891', 'total_amount': 299.99, 'payment_method': 'paypal', 'products': [{'product_id': 'p9012', 'quantity': 1, 'price': 299.99}]}], ['e1004', 'purchase', 'u5678', '2024-09-03T10:25:15Z', {'order_id': 'o7890', 'total_amount': 599.99, 'payment_method': 'credit_card', 'products': [{'product_id': 'p1234', 'quantity': 1, 'price': 599.99}]}], ['e1012', 'purchase', 'u3456', '2024-09-03T12:40:30Z', {'order_id': 'o7891', 'total_amount': 299.99, 'payment_method': 'paypal', 'products': [{'product_id': 'p9012', 'quantity': 1, 'price': 299.99}]}], ['e1004', 'purchase', 'u5678', '2024-09-03T10:25:15Z', {'order_id': 'o7890', 'total_amount': 599.99, 'payment_method': 'credit_card', 'products': [{'product_id': 'p1234', 'quantity': 1, 'price': 599.99}]}], ['e1012', 'purchase', 'u3456', '2024-09-03T12:40:30Z', {'order_id': 'o7891', 'total_amount': 299.99, 'payment_method': 'paypal', 'products': [{'product_id': 'p9012', 'quantity': 1, 'price': 299.99}]}], ['e1005', 'search', 'u9012', '2024-09-03T11:05:00Z', {'query': 'wireless headphones', 'results_count': 15}], ['e1013', 'search', 'u7890', '2024-09-03T13:15:00Z', {'query': 'running shoes', 'results_count': 30}], ['e1005', 'search', 'u9012', '2024-09-03T11:05:00Z', {'query': 'wireless headphones', 'results_count': 15}], ['e1013', 'search', 'u7890', '2024-09-03T13:15:00Z', {'query': 'running shoes', 'results_count': 30}], ['e1005', 'search', 'u9012', '2024-09-03T11:05:00Z', {'query': 'wireless headphones', 'results_count': 15}], ['e1013', 'search', 'u7890', '2024-09-03T13:15:00Z', {'query': 'running shoes', 'results_count': 30}], ['e1005', 'search', 'u9012', '2024-09-03T11:05:00Z', {'query': 'wireless headphones', 'results_count': 15}], ['e1013', 'search', 'u7890', '2024-09-03T13:15:00Z', {'query': 'running shoes', 'results_count': 30}], ['e1005', 'search', 'u9012', '2024-09-03T11:05:00Z', {'query': 'wireless headphones', 'results_count': 15}], ['e1013', 'search', 'u7890', '2024-09-03T13:15:00Z', {'query': 'running shoes', 'results_count': 30}], ['e1005', 'search', 'u9012', '2024-09-03T11:05:00Z', {'query': 'wireless headphones', 'results_count': 15}], ['e1013', 'search', 'u7890', '2024-09-03T13:15:00Z', {'query': 'running shoes', 'results_count': 30}], ['e1005', 'search', 'u9012', '2024-09-03T11:05:00Z', {'query': 'wireless headphones', 'results_count': 15}], ['e1013', 'search', 'u7890', '2024-09-03T13:15:00Z', {'query': 'running shoes', 'results_count': 30}], ['e1002', 'product_view', 'u5678', '2024-09-03T10:16:45Z', {'product_id': 'p1234', 'product_name': 'Smartphone X', 'category': 'electronics', 'price': 599.99}], ['e1007', 'product_view', 'u9012', '2024-09-03T11:09:45Z', {'product_id': 'p5678', 'product_name': 'Wireless Headphones Y', 'category': 'electronics', 'price': 199.99}], ['e1010', 'product_view', 'u3456', '2024-09-03T12:32:15Z', {'product_id': 'p9012', 'product_name': 'Ergonomic Office Chair', 'category': 'furniture', 'price': 299.99}], ['e1015', 'product_view', 'u7890', '2024-09-03T13:20:00Z', {'product_id': 'p3456', 'product_name': 'Ultra Boost Running Shoes', 'category': 'sports', 'price': 159.99}], ['e1002', 'product_view', 'u5678', '2024-09-03T10:16:45Z', {'product_id': 'p1234', 'product_name': 'Smartphone X', 'category': 'electronics', 'price': 599.99}], ['e1007', 'product_view', 'u9012', '2024-09-03T11:09:45Z', {'product_id': 'p5678', 'product_name': 'Wireless Headphones Y', 'category': 'electronics', 'price': 199.99}], ['e1010', 'product_view', 'u3456', '2024-09-03T12:32:15Z', {'product_id': 'p9012', 'product_name': 'Ergonomic Office Chair', 'category': 'furniture', 'price': 299.99}], ['e1015', 'product_view', 'u7890', '2024-09-03T13:20:00Z', {'product_id': 'p3456', 'product_name': 'Ultra Boost Running Shoes', 'category': 'sports', 'price': 159.99}], ['e1002', 'product_view', 'u5678', '2024-09-03T10:16:45Z', {'product_id': 'p1234', 'product_name': 'Smartphone X', 'category': 'electronics', 'price': 599.99}], ['e1007', 'product_view', 'u9012', '2024-09-03T11:09:45Z', {'product_id': 'p5678', 'product_name': 'Wireless Headphones Y', 'category': 'electronics', 'price': 199.99}], ['e1010', 'product_view', 'u3456', '2024-09-03T12:32:15Z', {'product_id': 'p9012', 'product_name': 'Ergonomic Office Chair', 'category': 'furniture', 'price': 299.99}], ['e1015', 'product_view', 'u7890', '2024-09-03T13:20:00Z', {'product_id': 'p3456', 'product_name': 'Ultra Boost Running Shoes', 'category': 'sports', 'price': 159.99}], ['e1002', 'product_view', 'u5678', '2024-09-03T10:16:45Z', {'product_id': 'p1234', 'product_name': 'Smartphone X', 'category': 'electronics', 'price': 599.99}], ['e1007', 'product_view', 'u9012', '2024-09-03T11:09:45Z', {'product_id': 'p5678', 'product_name': 'Wireless Headphones Y', 'category': 'electronics', 'price': 199.99}], ['e1010', 'product_view', 'u3456', '2024-09-03T12:32:15Z', {'product_id': 'p9012', 'product_name': 'Ergonomic Office Chair', 'category': 'furniture', 'price': 299.99}], ['e1015', 'product_view', 'u7890', '2024-09-03T13:20:00Z', {'product_id': 'p3456', 'product_name': 'Ultra Boost Running Shoes', 'category': 'sports', 'price': 159.99}], ['e1002', 'product_view', 'u5678', '2024-09-03T10:16:45Z', {'product_id': 'p1234', 'product_name': 'Smartphone X', 'category': 'electronics', 'price': 599.99}], ['e1007', 'product_view', 'u9012', '2024-09-03T11:09:45Z', {'product_id': 'p5678', 'product_name': 'Wireless Headphones Y', 'category': 'electronics', 'price': 199.99}], ['e1010', 'product_view', 'u3456', '2024-09-03T12:32:15Z', {'product_id': 'p9012', 'product_name': 'Ergonomic Office Chair', 'category': 'furniture', 'price': 299.99}], ['e1015', 'product_view', 'u7890', '2024-09-03T13:20:00Z', {'product_id': 'p3456', 'product_name': 'Ultra Boost Running Shoes', 'category': 'sports', 'price': 159.99}], ['e1002', 'product_view', 'u5678', '2024-09-03T10:16:45Z', {'product_id': 'p1234', 'product_name': 'Smartphone X', 'category': 'electronics', 'price': 599.99}], ['e1007', 'product_view', 'u9012', '2024-09-03T11:09:45Z', {'product_id': 'p5678', 'product_name': 'Wireless Headphones Y', 'category': 'electronics', 'price': 199.99}], ['e1010', 'product_view', 'u3456', '2024-09-03T12:32:15Z', {'product_id': 'p9012', 'product_name': 'Ergonomic Office Chair', 'category': 'furniture', 'price': 299.99}], ['e1015', 'product_view', 'u7890', '2024-09-03T13:20:00Z', {'product_id': 'p3456', 'product_name': 'Ultra Boost Running Shoes', 'category': 'sports', 'price': 159.99}], ['e1002', 'product_view', 'u5678', '2024-09-03T10:16:45Z', {'product_id': 'p1234', 'product_name': 'Smartphone X', 'category': 'electronics', 'price': 599.99}], ['e1007', 'product_view', 'u9012', '2024-09-03T11:09:45Z', {'product_id': 'p5678', 'product_name': 'Wireless Headphones Y', 'category': 'electronics', 'price': 199.99}], ['e1010', 'product_view', 'u3456', '2024-09-03T12:32:15Z', {'product_id': 'p9012', 'product_name': 'Ergonomic Office Chair', 'category': 'furniture', 'price': 299.99}], ['e1015', 'product_view', 'u7890', '2024-09-03T13:20:00Z', {'product_id': 'p3456', 'product_name': 'Ultra Boost Running Shoes', 'category': 'sports', 'price': 159.99}], ['e1003', 'add_to_cart', 'u5678', '2024-09-03T10:18:20Z', {'product_id': 'p1234', 'quantity': 1}], ['e1011', 'add_to_cart', 'u3456', '2024-09-03T12:35:00Z', {'product_id': 'p9012', 'quantity': 1}], ['e1003', 'add_to_cart', 'u5678', '2024-09-03T10:18:20Z', {'product_id': 'p1234', 'quantity': 1}], ['e1011', 'add_to_cart', 'u3456', '2024-09-03T12:35:00Z', {'product_id': 'p9012', 'quantity': 1}], ['e1003', 'add_to_cart', 'u5678', '2024-09-03T10:18:20Z', {'product_id': 'p1234', 'quantity': 1}], ['e1011', 'add_to_cart', 'u3456', '2024-09-03T12:35:00Z', {'product_id': 'p9012', 'quantity': 1}], ['e1003', 'add_to_cart', 'u5678', '2024-09-03T10:18:20Z', {'product_id': 'p1234', 'quantity': 1}], ['e1011', 'add_to_cart', 'u3456', '2024-09-03T12:35:00Z', {'product_id': 'p9012', 'quantity': 1}], ['e1003', 'add_to_cart', 'u5678', '2024-09-03T10:18:20Z', {'product_id': 'p1234', 'quantity': 1}], ['e1011', 'add_to_cart', 'u3456', '2024-09-03T12:35:00Z', {'product_id': 'p9012', 'quantity': 1}], ['e1003', 'add_to_cart', 'u5678', '2024-09-03T10:18:20Z', {'product_id': 'p1234', 'quantity': 1}], ['e1011', 'add_to_cart', 'u3456', '2024-09-03T12:35:00Z', {'product_id': 'p9012', 'quantity': 1}], ['e1003', 'add_to_cart', 'u5678', '2024-09-03T10:18:20Z', {'product_id': 'p1234', 'quantity': 1}], ['e1011', 'add_to_cart', 'u3456', '2024-09-03T12:35:00Z', {'product_id': 'p9012', 'quantity': 1}]]\n"
     ]
    }
   ],
   "source": [
    "print(msg_array)"
   ]
  },
  {
   "cell_type": "markdown",
   "id": "dd38336b",
   "metadata": {},
   "source": [
    "Initialize PySpark"
   ]
  },
  {
   "cell_type": "code",
   "execution_count": 7,
   "id": "907f9fff",
   "metadata": {},
   "outputs": [
    {
     "name": "stderr",
     "output_type": "stream",
     "text": [
      "Setting default log level to \"WARN\".\n",
      "To adjust logging level use sc.setLogLevel(newLevel). For SparkR, use setLogLevel(newLevel).\n",
      "24/09/04 01:32:27 WARN NativeCodeLoader: Unable to load native-hadoop library for your platform... using builtin-java classes where applicable\n",
      "/Users/ashwin-1994/miniforge3/envs/bigdata/lib/python3.9/site-packages/pyspark/sql/context.py:157: FutureWarning: Deprecated in 3.0.0. Use SparkSession.builder.getOrCreate() instead.\n",
      "  warnings.warn(\n"
     ]
    }
   ],
   "source": [
    "import os\n",
    "import pyspark\n",
    "\n",
    "conf = pyspark.SparkConf()\n",
    "# conf.set('spark.ui.proxyBase', '/user/' + os.environ['JUPYTERHUB_USER'] + '/proxy/4041')\n",
    "conf.set('spark.sql.repl.eagerEval.enabled', True)\n",
    "conf.set('spark.driver.memory','4g')\n",
    "\n",
    "sc = pyspark.SparkContext(conf=conf)\n",
    "spark = pyspark.SQLContext.getOrCreate(sc)"
   ]
  },
  {
   "cell_type": "code",
   "execution_count": 22,
   "id": "a26a95b6",
   "metadata": {},
   "outputs": [],
   "source": [
    "dataframe = spark.createDataFrame(msg_array, columns)"
   ]
  },
  {
   "cell_type": "code",
   "execution_count": 42,
   "id": "6d5ad7aa",
   "metadata": {},
   "outputs": [],
   "source": [
    "productsDataFrame = dataframe.filter(dataframe.event_type == 'product_view')"
   ]
  },
  {
   "cell_type": "markdown",
   "id": "1aa6a469",
   "metadata": {},
   "source": [
    "Extract hour and product id"
   ]
  },
  {
   "cell_type": "code",
   "execution_count": 43,
   "id": "e822047d",
   "metadata": {},
   "outputs": [],
   "source": [
    "def hour(timestamp):\n",
    "    #2024-09-03T11:11:00Z\n",
    "    \n",
    "    return timestamp[12:2]"
   ]
  },
  {
   "cell_type": "code",
   "execution_count": 44,
   "id": "0c4cbebc",
   "metadata": {},
   "outputs": [
    {
     "data": {
      "text/html": [
       "<table border='1'>\n",
       "<tr><th>event_id</th><th>event_type</th><th>user_id</th><th>timestamp</th><th>data</th><th>hour</th></tr>\n",
       "<tr><td>e1002</td><td>product_view</td><td>u5678</td><td>2024-09-03T10:16:45Z</td><td>{category -&gt; elec...</td><td>10</td></tr>\n",
       "<tr><td>e1007</td><td>product_view</td><td>u9012</td><td>2024-09-03T11:09:45Z</td><td>{category -&gt; elec...</td><td>11</td></tr>\n",
       "<tr><td>e1010</td><td>product_view</td><td>u3456</td><td>2024-09-03T12:32:15Z</td><td>{category -&gt; furn...</td><td>12</td></tr>\n",
       "<tr><td>e1015</td><td>product_view</td><td>u7890</td><td>2024-09-03T13:20:00Z</td><td>{category -&gt; spor...</td><td>13</td></tr>\n",
       "<tr><td>e1002</td><td>product_view</td><td>u5678</td><td>2024-09-03T10:16:45Z</td><td>{category -&gt; elec...</td><td>10</td></tr>\n",
       "<tr><td>e1007</td><td>product_view</td><td>u9012</td><td>2024-09-03T11:09:45Z</td><td>{category -&gt; elec...</td><td>11</td></tr>\n",
       "<tr><td>e1010</td><td>product_view</td><td>u3456</td><td>2024-09-03T12:32:15Z</td><td>{category -&gt; furn...</td><td>12</td></tr>\n",
       "<tr><td>e1015</td><td>product_view</td><td>u7890</td><td>2024-09-03T13:20:00Z</td><td>{category -&gt; spor...</td><td>13</td></tr>\n",
       "<tr><td>e1002</td><td>product_view</td><td>u5678</td><td>2024-09-03T10:16:45Z</td><td>{category -&gt; elec...</td><td>10</td></tr>\n",
       "<tr><td>e1007</td><td>product_view</td><td>u9012</td><td>2024-09-03T11:09:45Z</td><td>{category -&gt; elec...</td><td>11</td></tr>\n",
       "<tr><td>e1010</td><td>product_view</td><td>u3456</td><td>2024-09-03T12:32:15Z</td><td>{category -&gt; furn...</td><td>12</td></tr>\n",
       "<tr><td>e1015</td><td>product_view</td><td>u7890</td><td>2024-09-03T13:20:00Z</td><td>{category -&gt; spor...</td><td>13</td></tr>\n",
       "<tr><td>e1002</td><td>product_view</td><td>u5678</td><td>2024-09-03T10:16:45Z</td><td>{category -&gt; elec...</td><td>10</td></tr>\n",
       "<tr><td>e1007</td><td>product_view</td><td>u9012</td><td>2024-09-03T11:09:45Z</td><td>{category -&gt; elec...</td><td>11</td></tr>\n",
       "<tr><td>e1010</td><td>product_view</td><td>u3456</td><td>2024-09-03T12:32:15Z</td><td>{category -&gt; furn...</td><td>12</td></tr>\n",
       "<tr><td>e1015</td><td>product_view</td><td>u7890</td><td>2024-09-03T13:20:00Z</td><td>{category -&gt; spor...</td><td>13</td></tr>\n",
       "<tr><td>e1002</td><td>product_view</td><td>u5678</td><td>2024-09-03T10:16:45Z</td><td>{category -&gt; elec...</td><td>10</td></tr>\n",
       "<tr><td>e1007</td><td>product_view</td><td>u9012</td><td>2024-09-03T11:09:45Z</td><td>{category -&gt; elec...</td><td>11</td></tr>\n",
       "<tr><td>e1010</td><td>product_view</td><td>u3456</td><td>2024-09-03T12:32:15Z</td><td>{category -&gt; furn...</td><td>12</td></tr>\n",
       "<tr><td>e1015</td><td>product_view</td><td>u7890</td><td>2024-09-03T13:20:00Z</td><td>{category -&gt; spor...</td><td>13</td></tr>\n",
       "</table>\n",
       "only showing top 20 rows\n"
      ],
      "text/plain": [
       "+--------+------------+-------+--------------------+--------------------+----+\n",
       "|event_id|  event_type|user_id|           timestamp|                data|hour|\n",
       "+--------+------------+-------+--------------------+--------------------+----+\n",
       "|   e1002|product_view|  u5678|2024-09-03T10:16:45Z|{category -> elec...|  10|\n",
       "|   e1007|product_view|  u9012|2024-09-03T11:09:45Z|{category -> elec...|  11|\n",
       "|   e1010|product_view|  u3456|2024-09-03T12:32:15Z|{category -> furn...|  12|\n",
       "|   e1015|product_view|  u7890|2024-09-03T13:20:00Z|{category -> spor...|  13|\n",
       "|   e1002|product_view|  u5678|2024-09-03T10:16:45Z|{category -> elec...|  10|\n",
       "|   e1007|product_view|  u9012|2024-09-03T11:09:45Z|{category -> elec...|  11|\n",
       "|   e1010|product_view|  u3456|2024-09-03T12:32:15Z|{category -> furn...|  12|\n",
       "|   e1015|product_view|  u7890|2024-09-03T13:20:00Z|{category -> spor...|  13|\n",
       "|   e1002|product_view|  u5678|2024-09-03T10:16:45Z|{category -> elec...|  10|\n",
       "|   e1007|product_view|  u9012|2024-09-03T11:09:45Z|{category -> elec...|  11|\n",
       "|   e1010|product_view|  u3456|2024-09-03T12:32:15Z|{category -> furn...|  12|\n",
       "|   e1015|product_view|  u7890|2024-09-03T13:20:00Z|{category -> spor...|  13|\n",
       "|   e1002|product_view|  u5678|2024-09-03T10:16:45Z|{category -> elec...|  10|\n",
       "|   e1007|product_view|  u9012|2024-09-03T11:09:45Z|{category -> elec...|  11|\n",
       "|   e1010|product_view|  u3456|2024-09-03T12:32:15Z|{category -> furn...|  12|\n",
       "|   e1015|product_view|  u7890|2024-09-03T13:20:00Z|{category -> spor...|  13|\n",
       "|   e1002|product_view|  u5678|2024-09-03T10:16:45Z|{category -> elec...|  10|\n",
       "|   e1007|product_view|  u9012|2024-09-03T11:09:45Z|{category -> elec...|  11|\n",
       "|   e1010|product_view|  u3456|2024-09-03T12:32:15Z|{category -> furn...|  12|\n",
       "|   e1015|product_view|  u7890|2024-09-03T13:20:00Z|{category -> spor...|  13|\n",
       "+--------+------------+-------+--------------------+--------------------+----+\n",
       "only showing top 20 rows"
      ]
     },
     "execution_count": 44,
     "metadata": {},
     "output_type": "execute_result"
    }
   ],
   "source": [
    "productsDataFrame = productsDataFrame.withColumn('hour', hour(productsDataFrame.timestamp))\n",
    "productsDataFrame"
   ]
  },
  {
   "cell_type": "code",
   "execution_count": 51,
   "id": "46e8b3b0",
   "metadata": {},
   "outputs": [],
   "source": [
    "def get_product_id(data):\n",
    "    return data[\"product_id\"]"
   ]
  },
  {
   "cell_type": "code",
   "execution_count": 53,
   "id": "e4aec0b6",
   "metadata": {},
   "outputs": [
    {
     "data": {
      "text/html": [
       "<table border='1'>\n",
       "<tr><th>event_id</th><th>event_type</th><th>user_id</th><th>timestamp</th><th>data</th><th>hour</th><th>product_id</th></tr>\n",
       "<tr><td>e1002</td><td>product_view</td><td>u5678</td><td>2024-09-03T10:16:45Z</td><td>{category -&gt; elec...</td><td>10</td><td>p1234</td></tr>\n",
       "<tr><td>e1007</td><td>product_view</td><td>u9012</td><td>2024-09-03T11:09:45Z</td><td>{category -&gt; elec...</td><td>11</td><td>p5678</td></tr>\n",
       "<tr><td>e1010</td><td>product_view</td><td>u3456</td><td>2024-09-03T12:32:15Z</td><td>{category -&gt; furn...</td><td>12</td><td>p9012</td></tr>\n",
       "<tr><td>e1015</td><td>product_view</td><td>u7890</td><td>2024-09-03T13:20:00Z</td><td>{category -&gt; spor...</td><td>13</td><td>p3456</td></tr>\n",
       "<tr><td>e1002</td><td>product_view</td><td>u5678</td><td>2024-09-03T10:16:45Z</td><td>{category -&gt; elec...</td><td>10</td><td>p1234</td></tr>\n",
       "<tr><td>e1007</td><td>product_view</td><td>u9012</td><td>2024-09-03T11:09:45Z</td><td>{category -&gt; elec...</td><td>11</td><td>p5678</td></tr>\n",
       "<tr><td>e1010</td><td>product_view</td><td>u3456</td><td>2024-09-03T12:32:15Z</td><td>{category -&gt; furn...</td><td>12</td><td>p9012</td></tr>\n",
       "<tr><td>e1015</td><td>product_view</td><td>u7890</td><td>2024-09-03T13:20:00Z</td><td>{category -&gt; spor...</td><td>13</td><td>p3456</td></tr>\n",
       "<tr><td>e1002</td><td>product_view</td><td>u5678</td><td>2024-09-03T10:16:45Z</td><td>{category -&gt; elec...</td><td>10</td><td>p1234</td></tr>\n",
       "<tr><td>e1007</td><td>product_view</td><td>u9012</td><td>2024-09-03T11:09:45Z</td><td>{category -&gt; elec...</td><td>11</td><td>p5678</td></tr>\n",
       "<tr><td>e1010</td><td>product_view</td><td>u3456</td><td>2024-09-03T12:32:15Z</td><td>{category -&gt; furn...</td><td>12</td><td>p9012</td></tr>\n",
       "<tr><td>e1015</td><td>product_view</td><td>u7890</td><td>2024-09-03T13:20:00Z</td><td>{category -&gt; spor...</td><td>13</td><td>p3456</td></tr>\n",
       "<tr><td>e1002</td><td>product_view</td><td>u5678</td><td>2024-09-03T10:16:45Z</td><td>{category -&gt; elec...</td><td>10</td><td>p1234</td></tr>\n",
       "<tr><td>e1007</td><td>product_view</td><td>u9012</td><td>2024-09-03T11:09:45Z</td><td>{category -&gt; elec...</td><td>11</td><td>p5678</td></tr>\n",
       "<tr><td>e1010</td><td>product_view</td><td>u3456</td><td>2024-09-03T12:32:15Z</td><td>{category -&gt; furn...</td><td>12</td><td>p9012</td></tr>\n",
       "<tr><td>e1015</td><td>product_view</td><td>u7890</td><td>2024-09-03T13:20:00Z</td><td>{category -&gt; spor...</td><td>13</td><td>p3456</td></tr>\n",
       "<tr><td>e1002</td><td>product_view</td><td>u5678</td><td>2024-09-03T10:16:45Z</td><td>{category -&gt; elec...</td><td>10</td><td>p1234</td></tr>\n",
       "<tr><td>e1007</td><td>product_view</td><td>u9012</td><td>2024-09-03T11:09:45Z</td><td>{category -&gt; elec...</td><td>11</td><td>p5678</td></tr>\n",
       "<tr><td>e1010</td><td>product_view</td><td>u3456</td><td>2024-09-03T12:32:15Z</td><td>{category -&gt; furn...</td><td>12</td><td>p9012</td></tr>\n",
       "<tr><td>e1015</td><td>product_view</td><td>u7890</td><td>2024-09-03T13:20:00Z</td><td>{category -&gt; spor...</td><td>13</td><td>p3456</td></tr>\n",
       "</table>\n",
       "only showing top 20 rows\n"
      ],
      "text/plain": [
       "+--------+------------+-------+--------------------+--------------------+----+----------+\n",
       "|event_id|  event_type|user_id|           timestamp|                data|hour|product_id|\n",
       "+--------+------------+-------+--------------------+--------------------+----+----------+\n",
       "|   e1002|product_view|  u5678|2024-09-03T10:16:45Z|{category -> elec...|  10|     p1234|\n",
       "|   e1007|product_view|  u9012|2024-09-03T11:09:45Z|{category -> elec...|  11|     p5678|\n",
       "|   e1010|product_view|  u3456|2024-09-03T12:32:15Z|{category -> furn...|  12|     p9012|\n",
       "|   e1015|product_view|  u7890|2024-09-03T13:20:00Z|{category -> spor...|  13|     p3456|\n",
       "|   e1002|product_view|  u5678|2024-09-03T10:16:45Z|{category -> elec...|  10|     p1234|\n",
       "|   e1007|product_view|  u9012|2024-09-03T11:09:45Z|{category -> elec...|  11|     p5678|\n",
       "|   e1010|product_view|  u3456|2024-09-03T12:32:15Z|{category -> furn...|  12|     p9012|\n",
       "|   e1015|product_view|  u7890|2024-09-03T13:20:00Z|{category -> spor...|  13|     p3456|\n",
       "|   e1002|product_view|  u5678|2024-09-03T10:16:45Z|{category -> elec...|  10|     p1234|\n",
       "|   e1007|product_view|  u9012|2024-09-03T11:09:45Z|{category -> elec...|  11|     p5678|\n",
       "|   e1010|product_view|  u3456|2024-09-03T12:32:15Z|{category -> furn...|  12|     p9012|\n",
       "|   e1015|product_view|  u7890|2024-09-03T13:20:00Z|{category -> spor...|  13|     p3456|\n",
       "|   e1002|product_view|  u5678|2024-09-03T10:16:45Z|{category -> elec...|  10|     p1234|\n",
       "|   e1007|product_view|  u9012|2024-09-03T11:09:45Z|{category -> elec...|  11|     p5678|\n",
       "|   e1010|product_view|  u3456|2024-09-03T12:32:15Z|{category -> furn...|  12|     p9012|\n",
       "|   e1015|product_view|  u7890|2024-09-03T13:20:00Z|{category -> spor...|  13|     p3456|\n",
       "|   e1002|product_view|  u5678|2024-09-03T10:16:45Z|{category -> elec...|  10|     p1234|\n",
       "|   e1007|product_view|  u9012|2024-09-03T11:09:45Z|{category -> elec...|  11|     p5678|\n",
       "|   e1010|product_view|  u3456|2024-09-03T12:32:15Z|{category -> furn...|  12|     p9012|\n",
       "|   e1015|product_view|  u7890|2024-09-03T13:20:00Z|{category -> spor...|  13|     p3456|\n",
       "+--------+------------+-------+--------------------+--------------------+----+----------+\n",
       "only showing top 20 rows"
      ]
     },
     "execution_count": 53,
     "metadata": {},
     "output_type": "execute_result"
    }
   ],
   "source": [
    "productsDataFrame = productsDataFrame.withColumn('product_id', get_product_id(productsDataFrame.data))\n",
    "productsDataFrame"
   ]
  },
  {
   "cell_type": "code",
   "execution_count": null,
   "id": "bc72bcba",
   "metadata": {},
   "outputs": [],
   "source": [
    "Get top 2 products visited overall  "
   ]
  },
  {
   "cell_type": "code",
   "execution_count": 56,
   "id": "4ae34ee5",
   "metadata": {},
   "outputs": [
    {
     "data": {
      "text/html": [
       "<table border='1'>\n",
       "<tr><th>product_id</th><th>count</th></tr>\n",
       "<tr><td>p5678</td><td>7</td></tr>\n",
       "<tr><td>p1234</td><td>7</td></tr>\n",
       "</table>\n"
      ],
      "text/plain": [
       "+----------+-----+\n",
       "|product_id|count|\n",
       "+----------+-----+\n",
       "|     p5678|    7|\n",
       "|     p1234|    7|\n",
       "+----------+-----+"
      ]
     },
     "execution_count": 56,
     "metadata": {},
     "output_type": "execute_result"
    }
   ],
   "source": [
    "productsDataFrame.groupBy('product_id').count().orderBy(\"count\").limit(2)"
   ]
  }
 ],
 "metadata": {
  "kernelspec": {
   "display_name": "Python 3 (ipykernel)",
   "language": "python",
   "name": "python3"
  },
  "language_info": {
   "codemirror_mode": {
    "name": "ipython",
    "version": 3
   },
   "file_extension": ".py",
   "mimetype": "text/x-python",
   "name": "python",
   "nbconvert_exporter": "python",
   "pygments_lexer": "ipython3",
   "version": "3.9.7"
  }
 },
 "nbformat": 4,
 "nbformat_minor": 5
}
